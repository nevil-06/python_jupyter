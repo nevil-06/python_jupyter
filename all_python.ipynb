{
 "cells": [
  {
   "cell_type": "markdown",
   "metadata": {},
   "source": [
    "start of all python file \n",
    "chapter 1 fundametals"
   ]
  },
  {
   "cell_type": "markdown",
   "metadata": {},
   "source": [
    "arithmetic operations\n",
    "addition\n",
    "subtraction\n",
    "multiplication\n",
    "division\n",
    "floor division\n",
    "exponent\n",
    "modulus"
   ]
  },
  {
   "cell_type": "code",
   "execution_count": 18,
   "metadata": {},
   "outputs": [
    {
     "name": "stdout",
     "output_type": "stream",
     "text": [
      "8\n",
      "2\n",
      "10\n",
      "1.25\n",
      "1\n",
      "625\n",
      "0\n"
     ]
    }
   ],
   "source": [
    "print(5+3)\n",
    "print(5-3)\n",
    "print(5*2)\n",
    "print(5/4)\n",
    "print(5//4)\n",
    "print(5**4)\n",
    "print(25%5)\n"
   ]
  },
  {
   "cell_type": "markdown",
   "metadata": {},
   "source": [
    "checking type of data"
   ]
  },
  {
   "cell_type": "code",
   "execution_count": 29,
   "metadata": {},
   "outputs": [
    {
     "name": "stdout",
     "output_type": "stream",
     "text": [
      "<class 'int'>\n",
      "<class 'float'>\n",
      "<class 'str'>\n",
      "<class 'bool'>\n",
      "<class 'int'>\n",
      "<class 'list'>\n",
      "<class 'tuple'>\n",
      "<class 'dict'>\n",
      "<class 'str'>\n",
      "<class 'str'>\n"
     ]
    }
   ],
   "source": [
    "print(type(3))\n",
    "print(type(5.33))\n",
    "print(type(\"hello wolrd\"))\n",
    "print(type(True))\n",
    "print(type(0))\n",
    "print(type([]))\n",
    "print(type(()))\n",
    "print(type({}))\n",
    "print(type(\"\"))\n",
    "print(type(\"a\"))"
   ]
  },
  {
   "cell_type": "markdown",
   "metadata": {},
   "source": [
    "Math functions "
   ]
  },
  {
   "cell_type": "code",
   "execution_count": 68,
   "metadata": {},
   "outputs": [
    {
     "name": "stdout",
     "output_type": "stream",
     "text": [
      "0.554545\n",
      "2\n",
      "2\n",
      "3\n"
     ]
    }
   ],
   "source": [
    "print(abs(-0.554545))\n",
    "print(round(5/2))\n",
    "'''these are not inbuilt'''\n",
    "import math\n",
    "print(math.floor(5/2))\n",
    "print(math.ceil(5/2))"
   ]
  },
  {
   "cell_type": "markdown",
   "metadata": {},
   "source": [
    "operator precedence is:\n",
    "order in which the operations happen when a whole expression is given\n",
    "(),\n",
    "**,\n",
    "*,/\n",
    "+,-"
   ]
  },
  {
   "cell_type": "code",
   "execution_count": 39,
   "metadata": {},
   "outputs": [
    {
     "name": "stdout",
     "output_type": "stream",
     "text": [
      "1375\n",
      "166375\n",
      "755\n"
     ]
    }
   ],
   "source": [
    "print((5+6)* 5**3)\n",
    "print(((5+6)* 5)**3)\n",
    "print(5+6* 5**3)"
   ]
  },
  {
   "cell_type": "markdown",
   "metadata": {},
   "source": [
    "converting to hexadecimal,octal,binar,decimal\n",
    "e.g\n",
    "1) converting to binary and back to decimal\n",
    "converting to binary is simple with bin() fucntion\n",
    "converting back from binary to decimal needs us to specify the binary value and the base of the input 2 in case of binary (\"('0b101',2)\")"
   ]
  },
  {
   "cell_type": "code",
   "execution_count": 58,
   "metadata": {},
   "outputs": [
    {
     "name": "stdout",
     "output_type": "stream",
     "text": [
      "0b110111\n",
      "<class 'str'>\n",
      "55\n",
      "5\n",
      "0o10\n",
      "8\n",
      "0xc\n",
      "12\n"
     ]
    }
   ],
   "source": [
    "print(bin(55))\n",
    "print(type(bin(55)))\n",
    "print(int('0b110111',2))\n",
    "print(int('0b101',2))\n",
    "print(oct(8))\n",
    "print(int('0o10',8))\n",
    "print(hex(12))\n",
    "print(int('0xc',16))"
   ]
  },
  {
   "cell_type": "markdown",
   "metadata": {},
   "source": [
    "naming conventions for variable\n",
    "always use snake_case (e.g variable_name,user_id,birth_date)\n",
    "multiple variables can be assigned in a single line"
   ]
  },
  {
   "cell_type": "code",
   "execution_count": 60,
   "metadata": {},
   "outputs": [
    {
     "name": "stdout",
     "output_type": "stream",
     "text": [
      "12345\n",
      "1 2 3\n"
     ]
    }
   ],
   "source": [
    "user_id = 12345\n",
    "print(user_id)\n",
    "\n",
    "a,b,c =1,2,3\n",
    "print(a,b,c)"
   ]
  },
  {
   "cell_type": "markdown",
   "metadata": {},
   "source": [
    "private variables ('_')"
   ]
  },
  {
   "cell_type": "code",
   "execution_count": 66,
   "metadata": {},
   "outputs": [
    {
     "name": "stdout",
     "output_type": "stream",
     "text": [
      "pizza\n"
     ]
    },
    {
     "data": {
      "text/plain": [
       "\"\\n#this will not print it because error is related top variable declaeed as private using a '_' before it\\n#print(_fav_food)\\n\""
      ]
     },
     "execution_count": 66,
     "metadata": {},
     "output_type": "execute_result"
    }
   ],
   "source": [
    "def myFunc():\n",
    "    _fav_food=\"pizza\"\n",
    "    print(_fav_food)\n",
    "\n",
    "myFunc()\n",
    "'''\n",
    "#this will not print it because error is related top variable declaeed as private using a '_' before it\n",
    "#print(_fav_food)\n",
    "'''\n",
    "\n"
   ]
  },
  {
   "cell_type": "markdown",
   "metadata": {},
   "source": [
    "capital conventions:\n",
    "these are not recommended but it is legal and considered bad practice, start with lower case letters follow snake_case practice\n",
    "dunder:\n",
    "double underscore(dunder) are used for special purpose like __init__,__repr__\n"
   ]
  },
  {
   "cell_type": "code",
   "execution_count": 69,
   "metadata": {},
   "outputs": [
    {
     "name": "stdout",
     "output_type": "stream",
     "text": [
      "\n",
      "'__variable is known as a dundar in python 3.14\n"
     ]
    }
   ],
   "source": [
    "__PI = 3.14\n",
    "print(\"\\n'__variable is known as a dundar in python\",__PI)"
   ]
  },
  {
   "cell_type": "markdown",
   "metadata": {},
   "source": [
    "assignment and expression difference\n",
    "assigning is giving value to variable\n",
    "expression is using variable and performing something on it like below example"
   ]
  },
  {
   "cell_type": "code",
   "execution_count": 70,
   "metadata": {},
   "outputs": [
    {
     "name": "stdout",
     "output_type": "stream",
     "text": [
      "151 30.2\n"
     ]
    }
   ],
   "source": [
    "iq= 151\n",
    "avg_iq = iq/5\n",
    "print(iq, avg_iq)"
   ]
  },
  {
   "cell_type": "markdown",
   "metadata": {},
   "source": [
    "augmented operators: \n",
    "performing something on existing variable in single line like  +,-,*,/"
   ]
  },
  {
   "cell_type": "code",
   "execution_count": 71,
   "metadata": {},
   "outputs": [
    {
     "name": "stdout",
     "output_type": "stream",
     "text": [
      "7\n"
     ]
    }
   ],
   "source": [
    "some_var = 5\n",
    "some_var += 2\n",
    "print(some_var)"
   ]
  },
  {
   "cell_type": "markdown",
   "metadata": {},
   "source": [
    "Long string: is or multiple line string as one value to a variable"
   ]
  },
  {
   "cell_type": "code",
   "execution_count": 72,
   "metadata": {},
   "outputs": [
    {
     "name": "stdout",
     "output_type": "stream",
     "text": [
      " I'm Nevil,\n",
      "Hello, this is long string,\n",
      "this is end of it\n",
      "\n"
     ]
    }
   ],
   "source": [
    "long_str = ''' I'm Nevil,\n",
    "Hello, this is long string,\n",
    "this is end of it\n",
    "'''\n",
    "\n",
    "print(long_str)"
   ]
  },
  {
   "cell_type": "markdown",
   "metadata": {},
   "source": [
    "escape characters : used to add punctuation marks or signs in between the print statement"
   ]
  },
  {
   "cell_type": "code",
   "execution_count": 78,
   "metadata": {},
   "outputs": [
    {
     "name": "stdout",
     "output_type": "stream",
     "text": [
      "it's a \"bright\" monday today, isn't it?\n",
      "it's a  bright monday \n",
      "\t hello\n"
     ]
    }
   ],
   "source": [
    "print('it\\'s a \"bright\" monday today, isn\\'t it?')\n",
    "print('it\\'s a  ''bright'' monday ')\n",
    "print('\\t hello')"
   ]
  },
  {
   "cell_type": "markdown",
   "metadata": {},
   "source": [
    "formatted strings : printing string by using user input or variables in print statement"
   ]
  },
  {
   "cell_type": "code",
   "execution_count": 102,
   "metadata": {},
   "outputs": [
    {
     "name": "stdout",
     "output_type": "stream",
     "text": [
      "----------------------\n",
      "1st method using simple and normal method, if you want to add spaces before and after your value you need to actually add it in your prinitng statement \n",
      "hello, im nevil im working onpython\n",
      "----------------------\n",
      "2nd method for this is by using ',' you do not need to add space in previous string like 1st method ',' adds space by itself \n",
      "hello, im nevil im working on python\n",
      "----------------------\n",
      "3rd method using f string\n",
      "hello, im nevil im working on python\n",
      "----------------------\n",
      "4th method using format() method\n",
      "hello, im nevil im working on python\n",
      "----------------------\n",
      "5th  method using format() method and using value 0 and 1\n",
      "hello, im nevil im working on python\n",
      "----------------------\n",
      "6th method, using new values to  overwrite default given value and by using private variable method\n",
      "hello, im bob im working on java\n"
     ]
    }
   ],
   "source": [
    "name = 'nevil'\n",
    "work_on = 'python'\n",
    "print(\"----------------------\")\n",
    "print('1st method using simple and normal method, if you want to add spaces before and after your value you need to actually add it in your prinitng statement ')\n",
    "print(\"hello, im \"+name+\" im working on\"+work_on)\n",
    "print(\"----------------------\")\n",
    "print(\"2nd method for this is by using ',' you do not need to add space in previous string like 1st method ',' adds space by itself \")\n",
    "print(\"hello, im\",name,\"im working on\",work_on)\n",
    "print(\"----------------------\")\n",
    "print(\"3rd method using f string\")\n",
    "print(f\"hello, im {name} im working on {work_on}\")\n",
    "print(\"----------------------\")\n",
    "print(\"4th method using format() method\")\n",
    "print(\"hello, im {} im working on {}\".format(name,work_on))\n",
    "print(\"----------------------\")\n",
    "print('5th  method using format() method and using value 0 and 1')\n",
    "print(\"hello, im {1} im working on {0}\".format(work_on,name))\n",
    "print(\"----------------------\")\n",
    "print(\"6th method, using new values to  overwrite default given value and by using private variable method\")\n",
    "print(\"hello, im {_name} im working on {_work_on}\".format(_work_on=\"java\",_name=\"bob\"))"
   ]
  },
  {
   "cell_type": "markdown",
   "metadata": {},
   "source": [
    "string manipulation\n",
    "string characters can be accessed using [] and index numbers\n",
    "you can also use it to get multiple characters using indexes from where to start and stop isn [] e.g [start:stop] like [1:7]\n",
    "for the requirements to skip some inbetween characters use stepover in [] e,g [start:stop:stepover] like [1:7:2]\n",
    "this will get characters from 1 to 7 by skipping 2 values that comes in between\n",
    "you can -1 to start getting elemmenrts from back of string like e.g [-1:-4:-1]"
   ]
  },
  {
   "cell_type": "code",
   "execution_count": 127,
   "metadata": {},
   "outputs": [
    {
     "name": "stdout",
     "output_type": "stream",
     "text": [
      "0\n",
      "01234567\n",
      "012\n",
      "024\n",
      "03\n",
      "7\n",
      "76543210\n",
      "753\n"
     ]
    }
   ],
   "source": [
    "my_string = '01234567'\n",
    "print(my_string[0])\n",
    "print(my_string[0:])\n",
    "print(my_string[0:3])\n",
    "print(my_string[0:6:2])\n",
    "print(my_string[0:5:3])\n",
    "print(my_string[-1])\n",
    "print(my_string[-1::-1])\n",
    "print(my_string[-1:-6:-2])"
   ]
  },
  {
   "cell_type": "markdown",
   "metadata": {},
   "source": [
    "checking if string is mutable"
   ]
  },
  {
   "cell_type": "code",
   "execution_count": 133,
   "metadata": {},
   "outputs": [
    {
     "name": "stdout",
     "output_type": "stream",
     "text": [
      "0123456789\n",
      "True\n"
     ]
    }
   ],
   "source": [
    "my_string = '01234567'\n",
    "my_string+='89'\n",
    "print(my_string)\n",
    "print(bool(my_string))"
   ]
  },
  {
   "cell_type": "markdown",
   "metadata": {},
   "source": [
    "boolean values"
   ]
  },
  {
   "cell_type": "code",
   "execution_count": 143,
   "metadata": {},
   "outputs": [
    {
     "name": "stdout",
     "output_type": "stream",
     "text": [
      "False\n",
      "True\n",
      "True\n"
     ]
    }
   ],
   "source": [
    "print(bool(0))\n",
    "print(bool('0'))\n",
    "print(bool(True) and bool('False'))"
   ]
  },
  {
   "cell_type": "markdown",
   "metadata": {},
   "source": [
    "type casting or type conversion\n",
    "input receives data in terms of string which cannot be manipulated, so it should be converted into appropriate format in this case :- integer "
   ]
  },
  {
   "cell_type": "code",
   "execution_count": null,
   "metadata": {},
   "outputs": [],
   "source": [
    "birth_year = input(\"enter your birth year\")\n",
    "age_value = 2022 - int(birth_year)\n",
    "print(age_value)"
   ]
  },
  {
   "cell_type": "markdown",
   "metadata": {},
   "source": [
    "chapter 2 Lists\n",
    "list can be sliced, manipulated \n",
    "copied and assigned to a new list"
   ]
  },
  {
   "cell_type": "code",
   "execution_count": 25,
   "metadata": {},
   "outputs": [
    {
     "name": "stdout",
     "output_type": "stream",
     "text": [
      "[1, 2, 3, 4]\n",
      "[1, 55, 3, 4]\n",
      "[1, 55]\n",
      "[1, 55, 3, 4, 5]\n",
      "[1, 55, 3, 4]\n",
      "['a', 'b', 'c']\n"
     ]
    }
   ],
   "source": [
    "first_data = [1,2,3,4]\n",
    "second_data  = ['a','b','c']\n",
    "third_data = [1,2.3,'c',False]\n",
    "print(first_data)\n",
    "first_data[1]=55\n",
    "print(first_data)\n",
    "\n",
    "copied_data = first_data[0:2]\n",
    "print(copied_data)\n",
    "first_data.append(5)\n",
    "copy_data = first_data\n",
    "print(first_data)\n",
    "first_data.pop()\n",
    "print(copy_data)\n",
    "\n",
    "new_data = second_data.copy()\n",
    "print(new_data)\n"
   ]
  },
  {
   "cell_type": "markdown",
   "metadata": {},
   "source": [
    "adding elements to a list and useful methods for it\n",
    "appending a exisitng list and simultaneuously assigning it to a new list does not return anything (prints None if that method is used here)"
   ]
  },
  {
   "cell_type": "code",
   "execution_count": 157,
   "metadata": {},
   "outputs": [
    {
     "name": "stdout",
     "output_type": "stream",
     "text": [
      "[1, 2, 3, 4, 10]\n"
     ]
    }
   ],
   "source": [
    "first_info = [1,2,3,4]\n",
    "second_info  = ['a','b','c']\n",
    "third_info = [1,2.3,'c',False]\n",
    "#new_lits1 = first_info.append(10) this method will not work\n",
    "first_info.append(10)\n",
    "new_lits1 = first_info\n",
    "print(new_lits1)"
   ]
  },
  {
   "cell_type": "markdown",
   "metadata": {},
   "source": [
    "inserting elements and extending methods in list"
   ]
  },
  {
   "cell_type": "code",
   "execution_count": 34,
   "metadata": {},
   "outputs": [
    {
     "name": "stdout",
     "output_type": "stream",
     "text": [
      "[11, 1, 2, 3, 4]\n",
      "[11, 1, 2, 3, 4, 'a', 'b', 'c']\n"
     ]
    }
   ],
   "source": [
    "first_info = [1,2,3,4]\n",
    "first_info.insert(0,11)\n",
    "print(first_info)\n",
    "second_info  = ['a','b','c']\n",
    "first_info.extend(second_info)\n",
    "\n",
    "print(first_info)"
   ]
  },
  {
   "cell_type": "markdown",
   "metadata": {},
   "source": [
    "removing popping and deleting elements "
   ]
  },
  {
   "cell_type": "code",
   "execution_count": 42,
   "metadata": {},
   "outputs": [
    {
     "name": "stdout",
     "output_type": "stream",
     "text": [
      "2\n",
      "None\n",
      "None\n",
      "[]\n",
      "[1, 4]\n"
     ]
    }
   ],
   "source": [
    "first_info = [1,2,3,4]\n",
    "second_info  = ['a','b','c']\n",
    "print(first_info.pop(1))\n",
    "print(second_info.remove('a'))\n",
    "print(second_info.clear())\n",
    "print(second_info)\n",
    "del first_info[1]\n",
    "print(first_info)"
   ]
  },
  {
   "cell_type": "markdown",
   "metadata": {},
   "source": [
    "indexing and accessing "
   ]
  },
  {
   "cell_type": "code",
   "execution_count": 48,
   "metadata": {},
   "outputs": [
    {
     "name": "stdout",
     "output_type": "stream",
     "text": [
      "2\n",
      "3\n",
      "True\n",
      "False\n"
     ]
    }
   ],
   "source": [
    "example = ['a','z','f','b','c','d','e','d']\n",
    "print(example.count('d'))\n",
    "print(example.index('d'))\n",
    "print('d' in example)\n",
    "print('ad' in example)"
   ]
  },
  {
   "cell_type": "markdown",
   "metadata": {},
   "source": [
    "sorting the list\n",
    "you cannot sort prinnt the list directly like example.sort(), you need to actually run the command and the try to print"
   ]
  },
  {
   "cell_type": "code",
   "execution_count": 55,
   "metadata": {},
   "outputs": [
    {
     "name": "stdout",
     "output_type": "stream",
     "text": [
      "None\n",
      "['z', 'f', 'e', 'd', 'd', 'c', 'b', 'a']\n",
      "['a', 'b', 'c', 'd', 'd', 'e', 'f', 'z']\n"
     ]
    }
   ],
   "source": [
    "example = ['a','z','f','b','c','d','e','d']\n",
    "print(example.sort())\n",
    "example.sort(reverse=True)\n",
    "print(example)\n",
    "print(sorted(example))\n"
   ]
  },
  {
   "cell_type": "markdown",
   "metadata": {},
   "source": [
    "merge function in python"
   ]
  },
  {
   "cell_type": "code",
   "execution_count": 59,
   "metadata": {},
   "outputs": [
    {
     "name": "stdout",
     "output_type": "stream",
     "text": [
      "[1, 4, 6, 29, 34, 99]\n"
     ]
    }
   ],
   "source": [
    "from heapq import merge\n",
    "starting = [1,29,34]\n",
    "middle = [4,6,99]\n",
    "final_product = merge(starting,middle)\n",
    "print(list(final_product))\n",
    "\n"
   ]
  },
  {
   "cell_type": "markdown",
   "metadata": {},
   "source": [
    "slicing using inbuilt function"
   ]
  },
  {
   "cell_type": "code",
   "execution_count": 62,
   "metadata": {},
   "outputs": [
    {
     "name": "stdout",
     "output_type": "stream",
     "text": [
      "['a', 'b', 'c', 'd']\n"
     ]
    }
   ],
   "source": [
    "from itertools import islice\n",
    "print(list(islice('abcdef',4)))"
   ]
  },
  {
   "cell_type": "markdown",
   "metadata": {},
   "source": [
    "string interning\n",
    "string interning is the checking of whether the same string is present at the location two different variables are referencing the string but in memory it is present at same location"
   ]
  },
  {
   "cell_type": "code",
   "execution_count": 68,
   "metadata": {},
   "outputs": [
    {
     "name": "stdout",
     "output_type": "stream",
     "text": [
      "hello hello\n",
      "True\n",
      "1812031474032 1812031474032 1812052724272\n"
     ]
    }
   ],
   "source": [
    "u = 'hel'\n",
    "v= 'lo'\n",
    "w = u+v\n",
    "x= 'hello'\n",
    "z='hello'\n",
    "print(w,x)\n",
    "print(z is x)\n",
    "print(id(z), id(x),id(w))"
   ]
  },
  {
   "cell_type": "markdown",
   "metadata": {},
   "source": [
    "using sys to check if interned "
   ]
  },
  {
   "cell_type": "code",
   "execution_count": 70,
   "metadata": {},
   "outputs": [
    {
     "name": "stdout",
     "output_type": "stream",
     "text": [
      "True\n",
      "1812031474032 1812031474032\n"
     ]
    }
   ],
   "source": [
    "import sys\n",
    "s = sys.intern('hello')\n",
    "p = sys.intern(u+v)\n",
    "print(s is p)\n",
    "print(id(s),id(p))"
   ]
  },
  {
   "cell_type": "markdown",
   "metadata": {},
   "source": [
    "lists part 2"
   ]
  },
  {
   "cell_type": "code",
   "execution_count": 5,
   "metadata": {},
   "outputs": [
    {
     "name": "stdout",
     "output_type": "stream",
     "text": [
      "['a', 'e', 'f', 'h', 'i', 'q', 's']\n",
      "['s', 'q', 'i', 'h', 'f', 'e', 'a']\n",
      "['a', 'e', 'f', 'h', 'i', 'q', 's']\n"
     ]
    }
   ],
   "source": [
    "basket = ['a','e','f','h','i','q','s']\n",
    "basket.sort()\n",
    "print(basket)\n",
    "basket.reverse()\n",
    "print(basket)\n",
    "print(basket[-1::-1])"
   ]
  },
  {
   "cell_type": "markdown",
   "metadata": {},
   "source": [
    "list range function"
   ]
  },
  {
   "cell_type": "code",
   "execution_count": 1,
   "metadata": {},
   "outputs": [
    {
     "name": "stdout",
     "output_type": "stream",
     "text": [
      "[5, 6, 7, 8, 9, 10, 11]\n"
     ]
    }
   ],
   "source": [
    "print(list(range(5,12)))"
   ]
  },
  {
   "cell_type": "markdown",
   "metadata": {},
   "source": [
    "looping htorugh lists\n",
    "list can be accessed with for loop by direct item access and also index access\n"
   ]
  },
  {
   "cell_type": "code",
   "execution_count": 19,
   "metadata": {},
   "outputs": [
    {
     "name": "stdout",
     "output_type": "stream",
     "text": [
      "a,e,f,h,i,q,s,a\n",
      "e\n",
      "f\n",
      "h\n",
      "i\n",
      "q\n",
      "s\n",
      "a\n",
      "e\n",
      "f\n",
      "h\n",
      "i\n",
      "q\n",
      "s\n",
      "a\n",
      "f\n",
      "i\n",
      "s\n"
     ]
    }
   ],
   "source": [
    "basket = ['a','e','f','h','i','q','s']\n",
    "for item in basket:\n",
    "    print(item, end=\",\")\n",
    "\n",
    "#2nd approach using index\n",
    "for item in range(len(basket)):\n",
    "    print(basket[item])\n",
    "\n",
    "#3rd approach\n",
    "for _ in basket:\n",
    "    print(_)\n",
    "\n",
    "for item in range(0,len(basket),2):\n",
    "    print(basket[item])"
   ]
  },
  {
   "cell_type": "markdown",
   "metadata": {},
   "source": [
    "joining strings "
   ]
  },
  {
   "cell_type": "code",
   "execution_count": 25,
   "metadata": {},
   "outputs": [
    {
     "name": "stdout",
     "output_type": "stream",
     "text": [
      "g/e/e/k/s\n"
     ]
    }
   ],
   "source": [
    "new_name = ['g','e','e','k','s']\n",
    "middle_name = '/'\n",
    "final = middle_name.join(new_name)\n",
    "print(final)"
   ]
  },
  {
   "cell_type": "markdown",
   "metadata": {},
   "source": [
    "split the string "
   ]
  },
  {
   "cell_type": "code",
   "execution_count": 3,
   "metadata": {},
   "outputs": [
    {
     "name": "stdout",
     "output_type": "stream",
     "text": [
      "('hello', 'this', 'is', 'bob')\n"
     ]
    }
   ],
   "source": [
    "new_v = 'hello this is bob'\n",
    "print(tuple(new_v.split()))"
   ]
  },
  {
   "cell_type": "markdown",
   "metadata": {},
   "source": [
    "list unpacking"
   ]
  },
  {
   "cell_type": "code",
   "execution_count": 5,
   "metadata": {},
   "outputs": [
    {
     "name": "stdout",
     "output_type": "stream",
     "text": [
      "a e f\n",
      "h i q s\n"
     ]
    }
   ],
   "source": [
    "basket = ['a','e','f','h','i','q','s']\n",
    "p,q,r,*s = basket\n",
    "print(p,q,r)\n",
    "print(*s)"
   ]
  },
  {
   "cell_type": "markdown",
   "metadata": {},
   "source": [
    "list bisect"
   ]
  },
  {
   "cell_type": "code",
   "execution_count": 50,
   "metadata": {},
   "outputs": [
    {
     "data": {
      "text/plain": [
       "[0, 1, 2, 4, 4]"
      ]
     },
     "execution_count": 50,
     "metadata": {},
     "output_type": "execute_result"
    }
   ],
   "source": [
    "import bisect\n",
    "cuts = [20,40,60,80]\n",
    "grades = 'EDCBA'\n",
    "grades[bisect.bisect(cuts,50)]\n",
    "[grades[bisect.bisect(cuts,x)] for x in [10,30,50,80,100]]"
   ]
  },
  {
   "cell_type": "code",
   "execution_count": 49,
   "metadata": {},
   "outputs": [
    {
     "data": {
      "text/plain": [
       "2"
      ]
     },
     "execution_count": 49,
     "metadata": {},
     "output_type": "execute_result"
    }
   ],
   "source": [
    "bisect.bisect(cuts,50)"
   ]
  },
  {
   "cell_type": "markdown",
   "metadata": {},
   "source": [
    "chapter 4 dictionary\n",
    "key-value pairs\n",
    "keys have to be strings boolenas but not list\n",
    "keys are unique throughout the list"
   ]
  },
  {
   "cell_type": "code",
   "execution_count": 19,
   "metadata": {},
   "outputs": [
    {
     "name": "stdout",
     "output_type": "stream",
     "text": [
      "{'name': 'do nothin', 'author': 'john doe', 123: 'italy', 'price': '125$', 'published': '2021'}\n",
      "name do nothin\n",
      "author john doe\n",
      "123 italy\n",
      "price 125$\n",
      "published 2021\n",
      "None\n",
      "italy\n",
      "italy\n"
     ]
    }
   ],
   "source": [
    "book_details = {'name':'do nothin',\n",
    "                'author':'john doe',\n",
    "                123: 'spain',\n",
    "                123.0 : 'italy',\n",
    "                'price':'125$',\n",
    "                'published':'2021'\n",
    "                }\n",
    "\n",
    "print(book_details)                \n",
    "for item in book_details:\n",
    "    print(item,book_details[item])\n",
    "\n",
    "\n",
    "print(book_details.get('country'))\n",
    "print(book_details[123])\n",
    "print(book_details[123.0])\n"
   ]
  },
  {
   "cell_type": "markdown",
   "metadata": {},
   "source": [
    "sample dictionary from all_python file"
   ]
  },
  {
   "cell_type": "code",
   "execution_count": 22,
   "metadata": {},
   "outputs": [
    {
     "name": "stdout",
     "output_type": "stream",
     "text": [
      "\n",
      "Dictionary\n",
      "{'a': [1, 2, 3], 123: 'hello integer', 123.1: 'hello float', 123.12: 'hello double', False: True}\n",
      "[1, 2, 3]\n",
      "[1, 2, 3]\n",
      "hello integer\n",
      "hello float\n",
      "hello double\n"
     ]
    }
   ],
   "source": [
    "print(\"\\nDictionary\")\n",
    "dictionary = {\n",
    "  'a': [1,2,3],\n",
    "  123: 'hello integer',           #First key of all same keys will be selected as key and last updated value as the value for the first key\n",
    "  123.1:'hello float',  \n",
    "  123.12:'hello double',\n",
    "  False: True\n",
    "}\n",
    "print(dictionary)\n",
    "print(dictionary['a'])\n",
    "print(dictionary.get('a',\"default_value\"))\n",
    "print(dictionary[123])        #prints float value (if a similar float present)\n",
    "print(dictionary[123.1])   \n",
    "print(dictionary[123.12])   \n"
   ]
  },
  {
   "cell_type": "markdown",
   "metadata": {},
   "source": [
    "2nd method to create  dictionary"
   ]
  },
  {
   "cell_type": "code",
   "execution_count": 23,
   "metadata": {},
   "outputs": [
    {
     "name": "stdout",
     "output_type": "stream",
     "text": [
      "{'a': [1, 2, 3]}\n"
     ]
    }
   ],
   "source": [
    "new_sample = dict(a=[1,2,3])\n",
    "print(new_sample)"
   ]
  },
  {
   "cell_type": "markdown",
   "metadata": {},
   "source": [
    "creating dictionary from list"
   ]
  },
  {
   "cell_type": "code",
   "execution_count": 29,
   "metadata": {},
   "outputs": [
    {
     "name": "stdout",
     "output_type": "stream",
     "text": [
      "[1, 2, 3]\n"
     ]
    }
   ],
   "source": [
    "new_data = [{'a':[1,2,3],'b':'hello'}]\n",
    "print(new_data[0]['a'])"
   ]
  },
  {
   "cell_type": "markdown",
   "metadata": {},
   "source": [
    "accessing elements and their methodsdirect accessing a element that does not exist in dict gives error \n",
    "using .get method solves this problem as it will run and return none if the data is not present for that key\n",
    "you can also set the default value for the keys that does not exist in dictionary\n",
    "you can also find using in method "
   ]
  },
  {
   "cell_type": "code",
   "execution_count": 40,
   "metadata": {},
   "outputs": [
    {
     "name": "stdout",
     "output_type": "stream",
     "text": [
      "None\n",
      "is age present in the dictionary False\n",
      "is age present in the dictionary False\n",
      "is age present in the dictionary False\n"
     ]
    }
   ],
   "source": [
    "new_data = {'a':[1,2,3],'b':'hello'}\n",
    "print(new_data.get('age'))\n",
    "#print(new_data['age'] )\n",
    "#print(new_data.setdefault('age','age value does not exist in dictionary'))\n",
    "print('is age present in the dictionary', 'age' in new_data)\n",
    "print('is age present in the dictionary', 'age' in new_data.values())\n",
    "print('is age present in the dictionary', 'age' in new_data.keys())"
   ]
  },
  {
   "cell_type": "markdown",
   "metadata": {},
   "source": [
    "dictionary items methods"
   ]
  },
  {
   "cell_type": "code",
   "execution_count": 42,
   "metadata": {},
   "outputs": [
    {
     "name": "stdout",
     "output_type": "stream",
     "text": [
      "dict_items([('a', [1, 2, 3]), ('b', 'hello')])\n",
      "is age present in the dictionary False\n"
     ]
    }
   ],
   "source": [
    "print(new_data.items())\n",
    "print('is age present in the dictionary', 'age' in new_data.items())"
   ]
  },
  {
   "cell_type": "markdown",
   "metadata": {},
   "source": [
    "poppping items from dictionary \n"
   ]
  },
  {
   "cell_type": "code",
   "execution_count": 45,
   "metadata": {},
   "outputs": [
    {
     "name": "stdout",
     "output_type": "stream",
     "text": [
      "{'a': [1, 2, 3], 'b': 'hello'}\n",
      "2\n",
      "{'a': [1, 2, 3]}\n"
     ]
    }
   ],
   "source": [
    "copy_data = new_data.copy()\n",
    "print(copy_data)\n",
    "print(len(copy_data))\n",
    "copy_data.pop('b')\n",
    "print(copy_data)"
   ]
  },
  {
   "cell_type": "markdown",
   "metadata": {},
   "source": [
    "returning all keys fro dicti"
   ]
  },
  {
   "cell_type": "code",
   "execution_count": 52,
   "metadata": {},
   "outputs": [
    {
     "name": "stdout",
     "output_type": "stream",
     "text": [
      "dict_keys(['a', 'b'])\n",
      "dict_items([('a', [1, 2, 3]), ('b', 'hello')])\n",
      "dict_values([[1, 2, 3], 'hello'])\n",
      "None\n",
      "{'a': [1, 2, 3], 'b': 'hello', 'c': True}\n"
     ]
    }
   ],
   "source": [
    "print(new_data.keys())\n",
    "print(new_data.items())\n",
    "print(new_data.values())\n",
    "print(new_data.update({'c':True}))\n",
    "print(new_data)"
   ]
  },
  {
   "cell_type": "markdown",
   "metadata": {},
   "source": [
    "iterating through dictionary\n",
    "can use simple for loop\n",
    "also different methods are available like using .keys() .value() .items()"
   ]
  },
  {
   "cell_type": "code",
   "execution_count": 64,
   "metadata": {},
   "outputs": [
    {
     "name": "stdout",
     "output_type": "stream",
     "text": [
      "a\n",
      "b\n",
      "c\n",
      "[1, 2, 3]\n",
      "hello\n",
      "True\n",
      "a\n",
      "b\n",
      "c\n",
      "[1, 2, 3]\n",
      "hello\n",
      "True\n",
      "a [1, 2, 3]\n",
      "b hello\n",
      "c True\n"
     ]
    }
   ],
   "source": [
    "for item in new_data:\n",
    "    print(item)\n",
    "\n",
    "for item in new_data:\n",
    "    print(new_data[item])\n",
    "\n",
    "for item in new_data.keys():\n",
    "    print(item)\n",
    "\n",
    "for item in new_data.values():\n",
    "    print(item)\n",
    "\n",
    "for key,value in new_data.items():\n",
    "    print(key,value)"
   ]
  },
  {
   "cell_type": "markdown",
   "metadata": {},
   "source": [
    "default dictionary solevs the problem of absent keys by giving them a default value"
   ]
  },
  {
   "cell_type": "code",
   "execution_count": 76,
   "metadata": {},
   "outputs": [
    {
     "name": "stdout",
     "output_type": "stream",
     "text": [
      "defaultdict(<function there_ivalue at 0x000001988339FF70>, {'a': 1, 'b': 2})\n",
      "not present\n"
     ]
    }
   ],
   "source": [
    "from collections import defaultdict\n",
    "#sample_data = {'a': [1, 2, 3], 'b': 'hello', 'c': True}\n",
    "def there_ivalue():\n",
    "    return 'not present'\n",
    "default_dict = defaultdict(there_ivalue)\n",
    "default_dict['a'] = 1\n",
    "default_dict['b'] = 2\n",
    "#default_dict[''] = 3\n",
    "print(default_dict)\n",
    "print(default_dict['c'])"
   ]
  },
  {
   "cell_type": "markdown",
   "metadata": {},
   "source": [
    "sum of elements of list "
   ]
  },
  {
   "cell_type": "code",
   "execution_count": 80,
   "metadata": {},
   "outputs": [
    {
     "name": "stdout",
     "output_type": "stream",
     "text": [
      "44\n",
      "44\n"
     ]
    }
   ],
   "source": [
    "sum_this = [0,1,2,3,4,4,5,5,6,7,7]\n",
    "sum=0\n",
    "for i in sum_this:\n",
    "    sum +=i\n",
    "\n",
    "print(sum)\n",
    "\n",
    "sum=0\n",
    "for item in range(len(sum_this)):\n",
    "    sum+=sum_this[item]\n",
    "\n",
    "print(sum)\n"
   ]
  },
  {
   "cell_type": "markdown",
   "metadata": {},
   "source": [
    "enumerate function"
   ]
  },
  {
   "cell_type": "code",
   "execution_count": 83,
   "metadata": {},
   "outputs": [
    {
     "name": "stdout",
     "output_type": "stream",
     "text": [
      "0-->2\n",
      "1-->3\n",
      "2-->4\n",
      "3-->4\n",
      "4-->5\n",
      "5-->5\n",
      "6-->6\n",
      "7-->7\n",
      "8-->7\n"
     ]
    }
   ],
   "source": [
    "enum_this = [2,3,4,4,5,5,6,7,7]\n",
    "\n",
    "for item,value in enumerate(enum_this):\n",
    "    print(f'{item}-->{value}')"
   ]
  },
  {
   "cell_type": "markdown",
   "metadata": {},
   "source": [
    "while loops"
   ]
  },
  {
   "cell_type": "code",
   "execution_count": 90,
   "metadata": {},
   "outputs": [
    {
     "name": "stdout",
     "output_type": "stream",
     "text": [
      "current value is 0\n",
      "current value is 1\n",
      "current value is 2\n",
      "current value is 3\n",
      "current value is 4\n",
      "current value is 0\n",
      "current value is 1\n",
      "current value is 3\n",
      "current value is 5\n"
     ]
    }
   ],
   "source": [
    "i = 0\n",
    "while i<5:\n",
    "    print(f'current value is {i}')\n",
    "    i+=1\n",
    "\n",
    "i =0 \n",
    "while i<50:\n",
    "    print(f'current value is {i}')\n",
    "    break\n",
    "    i+=1\n",
    "i= 0 \n",
    "while i<5:\n",
    "    i+=1\n",
    "    if i%2==0:\n",
    "        continue\n",
    "    else:\n",
    "        print(f'current value is {i}')\n",
    "    "
   ]
  },
  {
   "cell_type": "markdown",
   "metadata": {},
   "source": [
    "for loop "
   ]
  },
  {
   "cell_type": "code",
   "execution_count": 92,
   "metadata": {},
   "outputs": [
    {
     "name": "stdout",
     "output_type": "stream",
     "text": [
      "1\n",
      "2\n",
      "4\n",
      "5\n"
     ]
    }
   ],
   "source": [
    "skip_loop = [1,2,3,4,5]\n",
    "for item in skip_loop:\n",
    "    if item == 3:\n",
    "        continue\n",
    "    else:\n",
    "        print(item)"
   ]
  },
  {
   "cell_type": "markdown",
   "metadata": {},
   "source": [
    "iterators in python"
   ]
  },
  {
   "cell_type": "code",
   "execution_count": 95,
   "metadata": {},
   "outputs": [
    {
     "name": "stdout",
     "output_type": "stream",
     "text": [
      "['c', 'd', 'e']\n"
     ]
    }
   ],
   "source": [
    "it = iter('abcde')\n",
    "next(it)\n",
    "next(it)\n",
    "print(list(it))"
   ]
  },
  {
   "cell_type": "markdown",
   "metadata": {},
   "source": [
    "chapter 5 tuples \n",
    "inserting new element in tuple needs it to be converted into list first and then it can be added to the tuple if you are adding only one element (element,) is how you can add it "
   ]
  },
  {
   "cell_type": "code",
   "execution_count": 104,
   "metadata": {},
   "outputs": [
    {
     "name": "stdout",
     "output_type": "stream",
     "text": [
      "2\n",
      "1 2 3\n",
      "4 4 5 6 7 5\n",
      "9\n",
      "(1, 2, 3)\n",
      "(2, 3, 4)\n",
      "(5, 7, 6, 5, 4, 4, 3, 2, 1)\n",
      "2\n",
      "2\n"
     ]
    }
   ],
   "source": [
    "my_tup = (1,2,3,4,4,5,6,7,5)\n",
    "a,b,c,*d = my_tup\n",
    "print(my_tup[1])\n",
    "print(a,b,c)\n",
    "print(*d)\n",
    "print(len(my_tup))\n",
    "print(my_tup[0:3])\n",
    "print(my_tup[1:4])\n",
    "print(my_tup[::-1]) \n",
    "print(my_tup.count(4))\n",
    "print(my_tup.index(3))"
   ]
  },
  {
   "cell_type": "markdown",
   "metadata": {},
   "source": [
    "chapter 6 sets"
   ]
  },
  {
   "cell_type": "code",
   "execution_count": 106,
   "metadata": {},
   "outputs": [
    {
     "name": "stdout",
     "output_type": "stream",
     "text": [
      "{1, 2, 3, 4, 5, 6}\n"
     ]
    }
   ],
   "source": [
    "set_elements = {1,2,3,4,5,6}\n",
    "print(set_elements)"
   ]
  },
  {
   "cell_type": "markdown",
   "metadata": {},
   "source": [
    "converting list to set "
   ]
  },
  {
   "cell_type": "code",
   "execution_count": 119,
   "metadata": {},
   "outputs": [
    {
     "name": "stdout",
     "output_type": "stream",
     "text": [
      "[1, 2, 3, 4, 5, 34, 6, 7]\n",
      "{1, 2, 3, 4, 5, 34, 6, 7, 11, 15, 55}\n",
      "None\n",
      "{False, 1, 2, 3, 4, 5, 34, 6, 7, 11, 15, 55}\n"
     ]
    }
   ],
   "source": [
    "list_conversion = [1,2,2,3,3,4,5,34,5,6,7,7,4,4]\n",
    "bool_val = {True,False}\n",
    "from_list = set(list_conversion)\n",
    "to_set = list(from_list)\n",
    "print(to_set)\n",
    "from_list.add(55)\n",
    "from_list.add(11)\n",
    "from_list.add(15)\n",
    "print(from_list)\n",
    "print(from_list.update(bool_val))\n",
    "print(from_list)"
   ]
  },
  {
   "cell_type": "markdown",
   "metadata": {},
   "source": [
    "count the elements by using sets"
   ]
  },
  {
   "cell_type": "code",
   "execution_count": 122,
   "metadata": {},
   "outputs": [
    {
     "name": "stdout",
     "output_type": "stream",
     "text": [
      "the current element is : 1 and its count is 3\n",
      "the current element is : 2 and its count is 3\n",
      "the current element is : 3 and its count is 1\n",
      "the current element is : 4 and its count is 4\n",
      "the current element is : 5 and its count is 2\n",
      "the current element is : 6 and its count is 4\n",
      "the current element is : 7 and its count is 1\n",
      "the current element is : 8 and its count is 2\n",
      "the current element is : 9 and its count is 2\n"
     ]
    }
   ],
   "source": [
    "ex_count = [1,5,3,1,6,9,6,4,6,2,5,8,4,2,4,7,8,9,4,2,1,6]\n",
    "unique_ele = set(ex_count)\n",
    "for item in unique_ele:\n",
    "    print(f'the current element is : {item} and its count is {ex_count.count(item)}')"
   ]
  },
  {
   "cell_type": "markdown",
   "metadata": {},
   "source": [
    "set methods "
   ]
  },
  {
   "cell_type": "code",
   "execution_count": 127,
   "metadata": {},
   "outputs": [
    {
     "name": "stdout",
     "output_type": "stream",
     "text": [
      "{1, 2, 3, 4, 5, 8, 9}\n",
      "{1, 2, 3, 4, 5, 8, 9}\n"
     ]
    }
   ],
   "source": [
    "first_field = {1,2,3,4,5,8,9}\n",
    "second_field = {4,5,6,7,8,9,10,1,2,3}\n",
    "\n",
    "print(first_field.intersection(second_field))\n",
    "\n",
    "print(first_field)"
   ]
  },
  {
   "cell_type": "markdown",
   "metadata": {},
   "source": [
    "miscellaneuos"
   ]
  },
  {
   "cell_type": "code",
   "execution_count": 144,
   "metadata": {},
   "outputs": [
    {
     "name": "stdout",
     "output_type": "stream",
     "text": [
      "True False\n",
      "True False\n"
     ]
    }
   ],
   "source": [
    "a,b = \"hi\",\"\"\n",
    "c,d = \"good\",0\n",
    "print(bool(a),bool(b))\n",
    "print(bool(c),bool(d))"
   ]
  },
  {
   "cell_type": "markdown",
   "metadata": {},
   "source": [
    "condition checking"
   ]
  },
  {
   "cell_type": "code",
   "execution_count": 145,
   "metadata": {},
   "outputs": [
    {
     "name": "stdout",
     "output_type": "stream",
     "text": [
      "it exists\n"
     ]
    }
   ],
   "source": [
    "user= \"hellboy\"\n",
    "password= \" \"\n",
    "if user and password:\n",
    "    print(\"it exists\")\n",
    "else:\n",
    "    print(\"it doesnt exist\")"
   ]
  },
  {
   "cell_type": "markdown",
   "metadata": {},
   "source": [
    "ternary operator"
   ]
  },
  {
   "cell_type": "code",
   "execution_count": 6,
   "metadata": {},
   "outputs": [
    {
     "name": "stdout",
     "output_type": "stream",
     "text": [
      "True\n"
     ]
    }
   ],
   "source": [
    "x= \" \"\n",
    "result = True if x else False\n",
    "print(result)"
   ]
  },
  {
   "cell_type": "markdown",
   "metadata": {},
   "source": [
    "wizard condition checking"
   ]
  },
  {
   "cell_type": "code",
   "execution_count": 9,
   "metadata": {},
   "outputs": [
    {
     "name": "stdout",
     "output_type": "stream",
     "text": [
      "you're superb\n"
     ]
    }
   ],
   "source": [
    "magician = False\n",
    "wizard = True\n",
    "if not magician and wizard:\n",
    "    print(\"you're superb\")\n",
    "elif not magician and wizard:\n",
    "    print(\"you need practice\")\n",
    "else:\n",
    "    print(\"you're just a avg magician\")"
   ]
  },
  {
   "cell_type": "markdown",
   "metadata": {},
   "source": [
    " is vs ==\n",
    " checking if loaction of variables in memory is sam or not"
   ]
  },
  {
   "cell_type": "code",
   "execution_count": 17,
   "metadata": {},
   "outputs": [
    {
     "name": "stdout",
     "output_type": "stream",
     "text": [
      "you cannot compare numbers by using 'is'\n",
      "both are equal\n",
      "True\n",
      "False\n",
      "is location same: different location\n"
     ]
    }
   ],
   "source": [
    "x = 3\n",
    "y=3.0\n",
    "if x is y:\n",
    "    print(\"both are equal\")\n",
    "else:\n",
    "    print(\"you cannot compare numbers by using 'is'\")\n",
    "\n",
    "a=\"hello\"\n",
    "b=\"hello\"\n",
    "if a is b:\n",
    "    print(\"both are equal\")\n",
    "else:\n",
    "    print(\"not equal\")\n",
    "print(True is True)\n",
    "print([1,2,3] is [1,2,3])\n",
    "c=[1,2,3]\n",
    "d=[1,2,3]\n",
    "is_same = \"same location\" if c is d else \"different location\"\n",
    "print(\"is location same:\",is_same)\n"
   ]
  },
  {
   "cell_type": "markdown",
   "metadata": {},
   "source": [
    "iterating through data structures"
   ]
  },
  {
   "cell_type": "code",
   "execution_count": 20,
   "metadata": {},
   "outputs": [
    {
     "name": "stdout",
     "output_type": "stream",
     "text": [
      "1\n",
      "2\n",
      "3\n",
      "1\n",
      "2\n",
      "3\n",
      "1\n",
      "2\n",
      "3\n"
     ]
    }
   ],
   "source": [
    "for item in [1,2,3]:\n",
    "    print(item)\n",
    "\n",
    "for item in {1,2,3}:\n",
    "    print(item)\n",
    "\n",
    "for item in (1,2,3):\n",
    "    print(item)"
   ]
  },
  {
   "cell_type": "markdown",
   "metadata": {},
   "source": [
    "pattern printing"
   ]
  },
  {
   "cell_type": "code",
   "execution_count": 25,
   "metadata": {},
   "outputs": [
    {
     "name": "stdout",
     "output_type": "stream",
     "text": [
      "[' ', ' ', ' ', '*', ' ', ' ', ' ']\n",
      "[' ', ' ', '*', '*', '*', ' ', ' ']\n",
      "[' ', '*', '*', '*', '*', '*', ' ']\n",
      "['*', '*', '*', '*', '*', '*', '*']\n",
      "[' ', ' ', ' ', '*', ' ', ' ', ' ']\n",
      "[' ', ' ', ' ', '*', ' ', ' ', ' ']\n"
     ]
    }
   ],
   "source": [
    "picture = [\n",
    "  [0,0,0,1,0,0,0],\n",
    "  [0,0,1,1,1,0,0],\n",
    "  [0,1,1,1,1,1,0],\n",
    "  [1,1,1,1,1,1,1],\n",
    "  [0,0,0,1,0,0,0],\n",
    "  [0,0,0,1,0,0,0]\n",
    "]\n",
    "for ones in range(len(picture)):\n",
    "    for zeros in range(0,len(picture)+1):\n",
    "        if picture[ones][zeros] ==1:\n",
    "            picture[ones][zeros]=\"*\"\n",
    "        else:\n",
    "            picture[ones][zeros]=\" \"\n",
    "for ones in picture:\n",
    "    print(ones)"
   ]
  },
  {
   "cell_type": "markdown",
   "metadata": {},
   "source": [
    "exercise"
   ]
  },
  {
   "cell_type": "code",
   "execution_count": 27,
   "metadata": {},
   "outputs": [
    {
     "name": "stdout",
     "output_type": "stream",
     "text": [
      "['b', 'c', 'f', 'g']\n"
     ]
    }
   ],
   "source": [
    "items = ['a','b','b','c','c','d','e','f','f','g','g']\n",
    "duplicates = []\n",
    "for val in items:\n",
    "    if items.count(val)>1:\n",
    "        if val not in duplicates:\n",
    "            duplicates.append(val)\n",
    "\n",
    "print(duplicates)"
   ]
  },
  {
   "cell_type": "markdown",
   "metadata": {},
   "source": [
    "functions\n",
    "naming conventions for pyhton are same as variable naming like e.g (my_function, first_var)"
   ]
  },
  {
   "cell_type": "code",
   "execution_count": 42,
   "metadata": {},
   "outputs": [
    {
     "name": "stdout",
     "output_type": "stream",
     "text": [
      "im called\n",
      "nvn,21\n",
      "outer function\n",
      "<function outer.<locals>.inner at 0x000001C89488F160>\n"
     ]
    }
   ],
   "source": [
    "def myFunc():\n",
    "    return \"im called\"\n",
    "\n",
    "val = myFunc()\n",
    "print(val)\n",
    "\n",
    "def detail(name,age):\n",
    "     print(f'{name},{age}')\n",
    "\n",
    "detail(name=\"nvn\",age=21)\n",
    "def outer():\n",
    "    print(\"outer function\")\n",
    "    def inner():\n",
    "        print(\"inner function\")\n",
    "    return inner\n",
    "\n",
    "valu=outer()\n",
    "print(valu)\n",
    "\n"
   ]
  },
  {
   "cell_type": "markdown",
   "metadata": {},
   "source": [
    "keyword arguement : you can arguements in any order as opposed to the default method, because you are passing keywords as well so position can be altered\n",
    "and\n",
    "variable arguements : this comes in handy when you are unaware of how many arguements are going to be passed in the function"
   ]
  },
  {
   "cell_type": "code",
   "execution_count": 46,
   "metadata": {},
   "outputs": [
    {
     "name": "stdout",
     "output_type": "stream",
     "text": [
      "15\n",
      "name is: nevil\n"
     ]
    }
   ],
   "source": [
    "def sum_block(*args):\n",
    "    return sum(args)\n",
    "\n",
    "sum_result = sum_block(1,2,3,4,5)\n",
    "print(sum_result)\n",
    "\n",
    "def key_word(**kwargs):\n",
    "    print(\"name is:\", kwargs['name'])\n",
    "\n",
    "key_word(name=\"nevil\")"
   ]
  },
  {
   "cell_type": "markdown",
   "metadata": {},
   "source": [
    "partials in functions\n",
    "we take a function pow pass params in it and later use partial and freeze it so it can not process further by holding in one of the params i.e 5 here which we later pass it in new variable which then allows to pass params"
   ]
  },
  {
   "cell_type": "code",
   "execution_count": 52,
   "metadata": {},
   "outputs": [
    {
     "data": {
      "text/plain": [
       "32"
      ]
     },
     "execution_count": 52,
     "metadata": {},
     "output_type": "execute_result"
    }
   ],
   "source": [
    "from functools import partial\n",
    "\n",
    "pow(2,5)  #this is an inbuilt function\n",
    "two_pow = partial(pow,2)    #passed one argument and freezed it into a variable\n",
    "two_pow(5) \n"
   ]
  },
  {
   "cell_type": "code",
   "execution_count": 56,
   "metadata": {},
   "outputs": [
    {
     "name": "stdout",
     "output_type": "stream",
     "text": [
      "\n",
      "Inner x :  non local\n",
      "\n",
      "Outer x :  non local\n"
     ]
    }
   ],
   "source": [
    "def outer():\n",
    "  x = 'local'\n",
    "\n",
    "  def inner():\n",
    "    nonlocal x  #<- don't use if not required\n",
    "    x = 'non local'\n",
    "    print(\"\\nInner x : \",x)\n",
    "  inner()\n",
    "  print(\"\\nOuter x : \",x)\n",
    "\n",
    "outer()"
   ]
  },
  {
   "cell_type": "markdown",
   "metadata": {},
   "source": [
    "class and methods related to it (doubt)"
   ]
  },
  {
   "cell_type": "code",
   "execution_count": 58,
   "metadata": {},
   "outputs": [
    {
     "name": "stdout",
     "output_type": "stream",
     "text": [
      "user's name: nevil age is: 22\n"
     ]
    }
   ],
   "source": [
    "class User:\n",
    "    membership = True\n",
    "    def __init__(self,name,age):\n",
    "        self.name = name\n",
    "        self.age = age\n",
    "    \n",
    "user_1 = User(\"nevil\", 22)\n",
    "print(\"user's name:\",user_1.name,\"age is:\",user_1.age)"
   ]
  },
  {
   "cell_type": "code",
   "execution_count": 68,
   "metadata": {},
   "outputs": [
    {
     "name": "stdout",
     "output_type": "stream",
     "text": [
      "\n",
      "Membership : True\n",
      "Membership : True\n",
      "\n",
      "Membership : True\n",
      "Membership : True\n",
      "\n",
      "Parth is Running\n"
     ]
    }
   ],
   "source": [
    "class PlayerCharacter:\n",
    "\n",
    "    membership = True\n",
    "\n",
    "    def __init__(self, name):  #<-'self' is necessary\n",
    "        self.name = name\n",
    "        print(\"\\nMembership :\", self.membership)\n",
    "        print(\"Membership :\", PlayerCharacter.membership)\n",
    "    def run(self):  #<-'self' is necessary for accessing the class variable in the method declaration\n",
    "        print(f\"\\n{self.name} is Running\")\n",
    "    @classmethod\n",
    "    def classMethod(cls, num1, num2):  #<-'cls' is necessary  #because it returns a new class object\n",
    "        return cls(\"Uttam\")\n",
    "\n",
    "    @staticmethod\n",
    "    def staticMethod(num1, num2):\n",
    "        return num1 + num2\n",
    "\n",
    "    \n",
    "player1 = PlayerCharacter(\"Parth\")\n",
    "player2 = PlayerCharacter(\"Zeal\")\n",
    "player1.run()\n"
   ]
  },
  {
   "cell_type": "markdown",
   "metadata": {},
   "source": [
    "private variables in class "
   ]
  },
  {
   "cell_type": "code",
   "execution_count": 71,
   "metadata": {},
   "outputs": [
    {
     "name": "stdout",
     "output_type": "stream",
     "text": [
      "cars barnd is: merc and speed is 230\n",
      "merc\n",
      "230\n"
     ]
    }
   ],
   "source": [
    "class Car:\n",
    "    def __init__(self,brand,speed):\n",
    "        self._brand = brand\n",
    "        self._speed = speed\n",
    "    def display(self):\n",
    "        print(\"cars barnd is:\",self._brand, \"and speed is\",self._speed)\n",
    "\n",
    "car_1 = Car(\"merc\",230)\n",
    "car_1.display()\n",
    "print(car_1._brand)\n",
    "print(car_1._speed)"
   ]
  },
  {
   "cell_type": "markdown",
   "metadata": {},
   "source": [
    "inheritance"
   ]
  },
  {
   "cell_type": "code",
   "execution_count": 74,
   "metadata": {},
   "outputs": [
    {
     "name": "stdout",
     "output_type": "stream",
     "text": [
      "merc\n",
      "bmw\n"
     ]
    }
   ],
   "source": [
    "class Car:\n",
    "    def __init__(self,brand,speed):\n",
    "        self._brand = brand\n",
    "        self._speed = speed\n",
    "    def display(self):\n",
    "        print(\"cars barnd is:\",self._brand, \"and speed is\",self._speed)\n",
    "\n",
    "class Owner(Car):\n",
    "    def __init__(self, brand, speed):\n",
    "        super().__init__(brand, speed)\n",
    "    def user_new(self):\n",
    "        print(\"cars barnd is:\",self._brand, \"and speed is\",self._speed)\n",
    "\n",
    "#car_1 = Car(\"merc\",230)\n",
    "\n",
    "owner = Car(\"merc\",230)\n",
    "owner_2 = Owner(\"bmw\",220)\n",
    "print(owner._brand)\n",
    "print(owner_2._brand)\n"
   ]
  },
  {
   "cell_type": "markdown",
   "metadata": {},
   "source": [
    "decortators in python\n",
    "we pass function inside my_decorator function\n",
    "which then prints the pattern and meanhwile our passed function is placed between them  which gets called and exectuion shifts to that fucntion\n",
    "afterb the execution of the middle placed function is over the og function gets running and completes its execution"
   ]
  },
  {
   "cell_type": "code",
   "execution_count": 84,
   "metadata": {},
   "outputs": [
    {
     "ename": "TypeError",
     "evalue": "'NoneType' object is not callable",
     "output_type": "error",
     "traceback": [
      "\u001b[1;31m---------------------------------------------------------------------------\u001b[0m",
      "\u001b[1;31mTypeError\u001b[0m                                 Traceback (most recent call last)",
      "\u001b[1;32m~\\AppData\\Local\\Temp/ipykernel_4004/14636795.py\u001b[0m in \u001b[0;36m<module>\u001b[1;34m\u001b[0m\n\u001b[0;32m     12\u001b[0m     \u001b[0mprint\u001b[0m\u001b[1;33m(\u001b[0m\u001b[1;34m\"hi how are you\"\u001b[0m\u001b[1;33m)\u001b[0m\u001b[1;33m\u001b[0m\u001b[1;33m\u001b[0m\u001b[0m\n\u001b[0;32m     13\u001b[0m \u001b[1;33m\u001b[0m\u001b[0m\n\u001b[1;32m---> 14\u001b[1;33m \u001b[0msecond_person\u001b[0m\u001b[1;33m(\u001b[0m\u001b[1;33m)\u001b[0m\u001b[1;33m\u001b[0m\u001b[1;33m\u001b[0m\u001b[0m\n\u001b[0m",
      "\u001b[1;31mTypeError\u001b[0m: 'NoneType' object is not callable"
     ]
    }
   ],
   "source": [
    "def my_decorator(func):\n",
    "    def inside_func(greetings,emoji):\n",
    "        print(\"hello what is up\")\n",
    "        func\n",
    "        print(\"good, how are you\")\n",
    "\n",
    "\n",
    "\n",
    "\n",
    "@my_decorator\n",
    "def second_person():\n",
    "    print(\"hi how are you\")\n",
    "\n",
    "second_person()"
   ]
  },
  {
   "cell_type": "markdown",
   "metadata": {},
   "source": [
    "calling function from inside of another function"
   ]
  },
  {
   "cell_type": "code",
   "execution_count": 80,
   "metadata": {},
   "outputs": [
    {
     "name": "stdout",
     "output_type": "stream",
     "text": [
      "this is from greeting\n"
     ]
    }
   ],
   "source": [
    "def greetings():\n",
    "    print(\"this is from greeting\")\n",
    "\n",
    "def from_call(func):\n",
    "    return func\n",
    "\n",
    "from_call(greetings())"
   ]
  },
  {
   "cell_type": "markdown",
   "metadata": {},
   "source": [
    "pure functions"
   ]
  },
  {
   "cell_type": "code",
   "execution_count": 87,
   "metadata": {},
   "outputs": [
    {
     "name": "stdout",
     "output_type": "stream",
     "text": [
      "Multiply by 2 list : [2, 4, 6]\n",
      "my_list : [1, 2, 3]\n"
     ]
    }
   ],
   "source": [
    "my_list = [1,2,3]\n",
    "\n",
    "def multiply_by2(my_list):\n",
    "  new_list = []\n",
    "  for item in my_list:\n",
    "    new_list.append(item*2)\n",
    "  return new_list\n",
    "\n",
    "print(f\"Multiply by 2 list : {multiply_by2(my_list)}\")\n",
    "print(f\"my_list : {my_list}\")"
   ]
  },
  {
   "cell_type": "markdown",
   "metadata": {},
   "source": [
    "map function"
   ]
  },
  {
   "cell_type": "code",
   "execution_count": 91,
   "metadata": {},
   "outputs": [
    {
     "name": "stdout",
     "output_type": "stream",
     "text": [
      "the multiplied list is: [2, 4, 6]\n",
      "upper case name ['SURAT', 'VADODARA', 'MUMBAI']\n"
     ]
    }
   ],
   "source": [
    "simple_li = [1,2,3]\n",
    "def mult_func(x):\n",
    "    return x*2\n",
    "\n",
    "print(\"the multiplied list is:\",list(map(mult_func,simple_li)))\n",
    "\n",
    "\n",
    "city_details = ['surat','vadodara','mumbai']\n",
    "print(\"upper case name\",list(map(str.upper,city_details)))\n"
   ]
  },
  {
   "cell_type": "markdown",
   "metadata": {},
   "source": [
    "filter function"
   ]
  },
  {
   "cell_type": "code",
   "execution_count": 94,
   "metadata": {},
   "outputs": [
    {
     "name": "stdout",
     "output_type": "stream",
     "text": [
      "odd numbers list [1, 3, 5]\n"
     ]
    }
   ],
   "source": [
    "numbers_li = [1,2,3,4,5]\n",
    "def odd_func(x):\n",
    "    if x%2!=0:\n",
    "        return x\n",
    "\n",
    "print(\"odd numbers list\",list(filter(odd_func,numbers_li)))"
   ]
  },
  {
   "cell_type": "markdown",
   "metadata": {},
   "source": [
    "zip function: what it does is it takes elements of same position from both input data structures and maps them by creatoing a tuple of 2 elements and the return the ans as a list"
   ]
  },
  {
   "cell_type": "code",
   "execution_count": 95,
   "metadata": {},
   "outputs": [
    {
     "name": "stdout",
     "output_type": "stream",
     "text": [
      "\n",
      "Through zipping : [(1, 10), (2, 20), (3, 30)]\n"
     ]
    }
   ],
   "source": [
    "my_list = [1,2,3]\n",
    "your_list = [10,20,30]\n",
    "\n",
    "print(\"\\nThrough zipping :\",list(zip(my_list,your_list)))"
   ]
  },
  {
   "cell_type": "markdown",
   "metadata": {},
   "source": [
    "lambda functions are anonymous functions that use less memonry and we can use them when we need to process that operations only once throughout the program"
   ]
  },
  {
   "cell_type": "code",
   "execution_count": 97,
   "metadata": {},
   "outputs": [
    {
     "ename": "TypeError",
     "evalue": "'function' object is not iterable",
     "output_type": "error",
     "traceback": [
      "\u001b[1;31m---------------------------------------------------------------------------\u001b[0m",
      "\u001b[1;31mTypeError\u001b[0m                                 Traceback (most recent call last)",
      "\u001b[1;32m~\\AppData\\Local\\Temp/ipykernel_4004/1883062998.py\u001b[0m in \u001b[0;36m<module>\u001b[1;34m\u001b[0m\n\u001b[0;32m      1\u001b[0m \u001b[0mop_li\u001b[0m \u001b[1;33m=\u001b[0m \u001b[1;33m[\u001b[0m\u001b[1;36m1\u001b[0m\u001b[1;33m,\u001b[0m\u001b[1;36m2\u001b[0m\u001b[1;33m,\u001b[0m\u001b[1;36m3\u001b[0m\u001b[1;33m,\u001b[0m\u001b[1;36m4\u001b[0m\u001b[1;33m,\u001b[0m\u001b[1;36m54\u001b[0m\u001b[1;33m,\u001b[0m\u001b[1;36m5\u001b[0m\u001b[1;33m]\u001b[0m\u001b[1;33m\u001b[0m\u001b[1;33m\u001b[0m\u001b[0m\n\u001b[1;32m----> 2\u001b[1;33m \u001b[0mprint\u001b[0m\u001b[1;33m(\u001b[0m\u001b[1;34m\"addition list \"\u001b[0m\u001b[1;33m,\u001b[0m\u001b[0mlist\u001b[0m\u001b[1;33m(\u001b[0m\u001b[1;32mlambda\u001b[0m \u001b[0mx\u001b[0m\u001b[1;33m:\u001b[0m\u001b[0mx\u001b[0m\u001b[1;33m+\u001b[0m\u001b[0mx\u001b[0m \u001b[1;33m)\u001b[0m\u001b[1;33m)\u001b[0m\u001b[1;33m\u001b[0m\u001b[1;33m\u001b[0m\u001b[0m\n\u001b[0m",
      "\u001b[1;31mTypeError\u001b[0m: 'function' object is not iterable"
     ]
    }
   ],
   "source": [
    "op_li = [1,2,3,4,54,5]\n",
    "print(\"addition list \",list(lambda x:x+x ))"
   ]
  },
  {
   "cell_type": "markdown",
   "metadata": {},
   "source": [
    "comprehension"
   ]
  },
  {
   "cell_type": "code",
   "execution_count": 98,
   "metadata": {},
   "outputs": [
    {
     "name": "stdout",
     "output_type": "stream",
     "text": [
      "[0, 1, 2, 3, 4, 5, 6, 7, 8, 9]\n"
     ]
    }
   ],
   "source": [
    "my_details = [x for x in range(10)]\n",
    "print(my_details)"
   ]
  },
  {
   "cell_type": "markdown",
   "metadata": {},
   "source": []
  },
  {
   "cell_type": "code",
   "execution_count": null,
   "metadata": {},
   "outputs": [],
   "source": []
  },
  {
   "cell_type": "markdown",
   "metadata": {},
   "source": []
  },
  {
   "cell_type": "code",
   "execution_count": null,
   "metadata": {},
   "outputs": [],
   "source": []
  },
  {
   "cell_type": "markdown",
   "metadata": {},
   "source": []
  }
 ],
 "metadata": {
  "kernelspec": {
   "display_name": "Python 3.9.2 64-bit",
   "language": "python",
   "name": "python3"
  },
  "language_info": {
   "codemirror_mode": {
    "name": "ipython",
    "version": 3
   },
   "file_extension": ".py",
   "mimetype": "text/x-python",
   "name": "python",
   "nbconvert_exporter": "python",
   "pygments_lexer": "ipython3",
   "version": "3.9.2"
  },
  "orig_nbformat": 4,
  "vscode": {
   "interpreter": {
    "hash": "b671c20432fcd147198c92e7f072af9e705f087eb990bee22b07f08caab9f630"
   }
  }
 },
 "nbformat": 4,
 "nbformat_minor": 2
}
