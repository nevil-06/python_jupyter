{
 "cells": [
  {
   "cell_type": "markdown",
   "metadata": {},
   "source": [
    "start of all python file \n",
    "chapter 1 fundametals"
   ]
  },
  {
   "cell_type": "markdown",
   "metadata": {},
   "source": [
    "arithmetic operations\n",
    "addition\n",
    "subtraction\n",
    "multiplication\n",
    "division\n",
    "floor division\n",
    "exponent\n",
    "modulus"
   ]
  },
  {
   "cell_type": "code",
   "execution_count": 18,
   "metadata": {},
   "outputs": [
    {
     "name": "stdout",
     "output_type": "stream",
     "text": [
      "8\n",
      "2\n",
      "10\n",
      "1.25\n",
      "1\n",
      "625\n",
      "0\n"
     ]
    }
   ],
   "source": [
    "print(5+3)\n",
    "print(5-3)\n",
    "print(5*2)\n",
    "print(5/4)\n",
    "print(5//4)\n",
    "print(5**4)\n",
    "print(25%5)\n"
   ]
  },
  {
   "cell_type": "markdown",
   "metadata": {},
   "source": [
    "checking type of data"
   ]
  },
  {
   "cell_type": "code",
   "execution_count": 29,
   "metadata": {},
   "outputs": [
    {
     "name": "stdout",
     "output_type": "stream",
     "text": [
      "<class 'int'>\n",
      "<class 'float'>\n",
      "<class 'str'>\n",
      "<class 'bool'>\n",
      "<class 'int'>\n",
      "<class 'list'>\n",
      "<class 'tuple'>\n",
      "<class 'dict'>\n",
      "<class 'str'>\n",
      "<class 'str'>\n"
     ]
    }
   ],
   "source": [
    "print(type(3))\n",
    "print(type(5.33))\n",
    "print(type(\"hello wolrd\"))\n",
    "print(type(True))\n",
    "print(type(0))\n",
    "print(type([]))\n",
    "print(type(()))\n",
    "print(type({}))\n",
    "print(type(\"\"))\n",
    "print(type(\"a\"))"
   ]
  },
  {
   "cell_type": "markdown",
   "metadata": {},
   "source": [
    "Math functions "
   ]
  },
  {
   "cell_type": "code",
   "execution_count": 68,
   "metadata": {},
   "outputs": [
    {
     "name": "stdout",
     "output_type": "stream",
     "text": [
      "0.554545\n",
      "2\n",
      "2\n",
      "3\n"
     ]
    }
   ],
   "source": [
    "print(abs(-0.554545))\n",
    "print(round(5/2))\n",
    "'''these are not inbuilt'''\n",
    "import math\n",
    "print(math.floor(5/2))\n",
    "print(math.ceil(5/2))"
   ]
  },
  {
   "cell_type": "markdown",
   "metadata": {},
   "source": [
    "operator precedence is:\n",
    "order in which the operations happen when a whole expression is given\n",
    "(),\n",
    "**,\n",
    "*,/\n",
    "+,-"
   ]
  },
  {
   "cell_type": "code",
   "execution_count": 39,
   "metadata": {},
   "outputs": [
    {
     "name": "stdout",
     "output_type": "stream",
     "text": [
      "1375\n",
      "166375\n",
      "755\n"
     ]
    }
   ],
   "source": [
    "print((5+6)* 5**3)\n",
    "print(((5+6)* 5)**3)\n",
    "print(5+6* 5**3)"
   ]
  },
  {
   "cell_type": "markdown",
   "metadata": {},
   "source": [
    "converting to hexadecimal,octal,binar,decimal\n",
    "e.g\n",
    "1) converting to binary and back to decimal\n",
    "converting to binary is simple with bin() fucntion\n",
    "converting back from binary to decimal needs us to specify the binary value and the base of the input 2 in case of binary (\"('0b101',2)\")"
   ]
  },
  {
   "cell_type": "code",
   "execution_count": 58,
   "metadata": {},
   "outputs": [
    {
     "name": "stdout",
     "output_type": "stream",
     "text": [
      "0b110111\n",
      "<class 'str'>\n",
      "55\n",
      "5\n",
      "0o10\n",
      "8\n",
      "0xc\n",
      "12\n"
     ]
    }
   ],
   "source": [
    "print(bin(55))\n",
    "print(type(bin(55)))\n",
    "print(int('0b110111',2))\n",
    "print(int('0b101',2))\n",
    "print(oct(8))\n",
    "print(int('0o10',8))\n",
    "print(hex(12))\n",
    "print(int('0xc',16))"
   ]
  },
  {
   "cell_type": "markdown",
   "metadata": {},
   "source": [
    "naming conventions for variable\n",
    "always use snake_case (e.g variable_name,user_id,birth_date)\n",
    "multiple variables can be assigned in a single line"
   ]
  },
  {
   "cell_type": "code",
   "execution_count": 60,
   "metadata": {},
   "outputs": [
    {
     "name": "stdout",
     "output_type": "stream",
     "text": [
      "12345\n",
      "1 2 3\n"
     ]
    }
   ],
   "source": [
    "user_id = 12345\n",
    "print(user_id)\n",
    "\n",
    "a,b,c =1,2,3\n",
    "print(a,b,c)"
   ]
  },
  {
   "cell_type": "markdown",
   "metadata": {},
   "source": [
    "private variables ('_')"
   ]
  },
  {
   "cell_type": "code",
   "execution_count": 66,
   "metadata": {},
   "outputs": [
    {
     "name": "stdout",
     "output_type": "stream",
     "text": [
      "pizza\n"
     ]
    },
    {
     "data": {
      "text/plain": [
       "\"\\n#this will not print it because error is related top variable declaeed as private using a '_' before it\\n#print(_fav_food)\\n\""
      ]
     },
     "execution_count": 66,
     "metadata": {},
     "output_type": "execute_result"
    }
   ],
   "source": [
    "def myFunc():\n",
    "    _fav_food=\"pizza\"\n",
    "    print(_fav_food)\n",
    "\n",
    "myFunc()\n",
    "'''\n",
    "#this will not print it because error is related top variable declaeed as private using a '_' before it\n",
    "#print(_fav_food)\n",
    "'''\n",
    "\n"
   ]
  },
  {
   "cell_type": "markdown",
   "metadata": {},
   "source": [
    "capital conventions:\n",
    "these are not recommended but it is legal and considered bad practice, start with lower case letters follow snake_case practice\n",
    "dunder:\n",
    "double underscore(dunder) are used for special purpose like __init__,__repr__\n"
   ]
  },
  {
   "cell_type": "code",
   "execution_count": 69,
   "metadata": {},
   "outputs": [
    {
     "name": "stdout",
     "output_type": "stream",
     "text": [
      "\n",
      "'__variable is known as a dundar in python 3.14\n"
     ]
    }
   ],
   "source": [
    "__PI = 3.14\n",
    "print(\"\\n'__variable is known as a dundar in python\",__PI)"
   ]
  },
  {
   "cell_type": "markdown",
   "metadata": {},
   "source": [
    "assignment and expression difference\n",
    "assigning is giving value to variable\n",
    "expression is using variable and performing something on it like below example"
   ]
  },
  {
   "cell_type": "code",
   "execution_count": 70,
   "metadata": {},
   "outputs": [
    {
     "name": "stdout",
     "output_type": "stream",
     "text": [
      "151 30.2\n"
     ]
    }
   ],
   "source": [
    "iq= 151\n",
    "avg_iq = iq/5\n",
    "print(iq, avg_iq)"
   ]
  },
  {
   "cell_type": "markdown",
   "metadata": {},
   "source": [
    "augmented operators: \n",
    "performing something on existing variable in single line like  +,-,*,/"
   ]
  },
  {
   "cell_type": "code",
   "execution_count": 71,
   "metadata": {},
   "outputs": [
    {
     "name": "stdout",
     "output_type": "stream",
     "text": [
      "7\n"
     ]
    }
   ],
   "source": [
    "some_var = 5\n",
    "some_var += 2\n",
    "print(some_var)"
   ]
  },
  {
   "cell_type": "markdown",
   "metadata": {},
   "source": [
    "Long string: is or multiple line string as one value to a variable"
   ]
  },
  {
   "cell_type": "code",
   "execution_count": 72,
   "metadata": {},
   "outputs": [
    {
     "name": "stdout",
     "output_type": "stream",
     "text": [
      " I'm Nevil,\n",
      "Hello, this is long string,\n",
      "this is end of it\n",
      "\n"
     ]
    }
   ],
   "source": [
    "long_str = ''' I'm Nevil,\n",
    "Hello, this is long string,\n",
    "this is end of it\n",
    "'''\n",
    "\n",
    "print(long_str)"
   ]
  },
  {
   "cell_type": "markdown",
   "metadata": {},
   "source": [
    "escape characters : used to add punctuation marks or signs in between the print statement"
   ]
  },
  {
   "cell_type": "code",
   "execution_count": 78,
   "metadata": {},
   "outputs": [
    {
     "name": "stdout",
     "output_type": "stream",
     "text": [
      "it's a \"bright\" monday today, isn't it?\n",
      "it's a  bright monday \n",
      "\t hello\n"
     ]
    }
   ],
   "source": [
    "print('it\\'s a \"bright\" monday today, isn\\'t it?')\n",
    "print('it\\'s a  ''bright'' monday ')\n",
    "print('\\t hello')"
   ]
  },
  {
   "cell_type": "markdown",
   "metadata": {},
   "source": [
    "formatted strings : printing string by using user input or variables in print statement"
   ]
  },
  {
   "cell_type": "code",
   "execution_count": 102,
   "metadata": {},
   "outputs": [
    {
     "name": "stdout",
     "output_type": "stream",
     "text": [
      "----------------------\n",
      "1st method using simple and normal method, if you want to add spaces before and after your value you need to actually add it in your prinitng statement \n",
      "hello, im nevil im working onpython\n",
      "----------------------\n",
      "2nd method for this is by using ',' you do not need to add space in previous string like 1st method ',' adds space by itself \n",
      "hello, im nevil im working on python\n",
      "----------------------\n",
      "3rd method using f string\n",
      "hello, im nevil im working on python\n",
      "----------------------\n",
      "4th method using format() method\n",
      "hello, im nevil im working on python\n",
      "----------------------\n",
      "5th  method using format() method and using value 0 and 1\n",
      "hello, im nevil im working on python\n",
      "----------------------\n",
      "6th method, using new values to  overwrite default given value and by using private variable method\n",
      "hello, im bob im working on java\n"
     ]
    }
   ],
   "source": [
    "name = 'nevil'\n",
    "work_on = 'python'\n",
    "print(\"----------------------\")\n",
    "print('1st method using simple and normal method, if you want to add spaces before and after your value you need to actually add it in your prinitng statement ')\n",
    "print(\"hello, im \"+name+\" im working on\"+work_on)\n",
    "print(\"----------------------\")\n",
    "print(\"2nd method for this is by using ',' you do not need to add space in previous string like 1st method ',' adds space by itself \")\n",
    "print(\"hello, im\",name,\"im working on\",work_on)\n",
    "print(\"----------------------\")\n",
    "print(\"3rd method using f string\")\n",
    "print(f\"hello, im {name} im working on {work_on}\")\n",
    "print(\"----------------------\")\n",
    "print(\"4th method using format() method\")\n",
    "print(\"hello, im {} im working on {}\".format(name,work_on))\n",
    "print(\"----------------------\")\n",
    "print('5th  method using format() method and using value 0 and 1')\n",
    "print(\"hello, im {1} im working on {0}\".format(work_on,name))\n",
    "print(\"----------------------\")\n",
    "print(\"6th method, using new values to  overwrite default given value and by using private variable method\")\n",
    "print(\"hello, im {_name} im working on {_work_on}\".format(_work_on=\"java\",_name=\"bob\"))"
   ]
  },
  {
   "cell_type": "markdown",
   "metadata": {},
   "source": [
    "string manipulation\n",
    "string characters can be accessed using [] and index numbers\n",
    "you can also use it to get multiple characters using indexes from where to start and stop isn [] e.g [start:stop] like [1:7]\n",
    "for the requirements to skip some inbetween characters use stepover in [] e,g [start:stop:stepover] like [1:7:2]\n",
    "this will get characters from 1 to 7 by skipping 2 values that comes in between\n",
    "you can -1 to start getting elemmenrts from back of string like e.g [-1:-4:-1]"
   ]
  },
  {
   "cell_type": "code",
   "execution_count": 127,
   "metadata": {},
   "outputs": [
    {
     "name": "stdout",
     "output_type": "stream",
     "text": [
      "0\n",
      "01234567\n",
      "012\n",
      "024\n",
      "03\n",
      "7\n",
      "76543210\n",
      "753\n"
     ]
    }
   ],
   "source": [
    "my_string = '01234567'\n",
    "print(my_string[0])\n",
    "print(my_string[0:])\n",
    "print(my_string[0:3])\n",
    "print(my_string[0:6:2])\n",
    "print(my_string[0:5:3])\n",
    "print(my_string[-1])\n",
    "print(my_string[-1::-1])\n",
    "print(my_string[-1:-6:-2])"
   ]
  },
  {
   "cell_type": "markdown",
   "metadata": {},
   "source": [
    "checking if string is mutable"
   ]
  },
  {
   "cell_type": "code",
   "execution_count": 133,
   "metadata": {},
   "outputs": [
    {
     "name": "stdout",
     "output_type": "stream",
     "text": [
      "0123456789\n",
      "True\n"
     ]
    }
   ],
   "source": [
    "my_string = '01234567'\n",
    "my_string+='89'\n",
    "print(my_string)\n",
    "print(bool(my_string))"
   ]
  },
  {
   "cell_type": "markdown",
   "metadata": {},
   "source": [
    "boolean values"
   ]
  },
  {
   "cell_type": "code",
   "execution_count": 143,
   "metadata": {},
   "outputs": [
    {
     "name": "stdout",
     "output_type": "stream",
     "text": [
      "False\n",
      "True\n",
      "True\n"
     ]
    }
   ],
   "source": [
    "print(bool(0))\n",
    "print(bool('0'))\n",
    "print(bool(True) and bool('False'))"
   ]
  },
  {
   "cell_type": "markdown",
   "metadata": {},
   "source": [
    "type casting or type conversion\n",
    "input receives data in terms of string which cannot be manipulated, so it should be converted into appropriate format in this case :- integer "
   ]
  },
  {
   "cell_type": "code",
   "execution_count": null,
   "metadata": {},
   "outputs": [],
   "source": [
    "birth_year = input(\"enter your birth year\")\n",
    "age_value = 2022 - int(birth_year)\n",
    "print(age_value)"
   ]
  },
  {
   "cell_type": "markdown",
   "metadata": {},
   "source": [
    "chapter 2 Lists\n",
    "list can be sliced, manipulated \n",
    "copied and assigned to a new list"
   ]
  },
  {
   "cell_type": "code",
   "execution_count": 25,
   "metadata": {},
   "outputs": [
    {
     "name": "stdout",
     "output_type": "stream",
     "text": [
      "[1, 2, 3, 4]\n",
      "[1, 55, 3, 4]\n",
      "[1, 55]\n",
      "[1, 55, 3, 4, 5]\n",
      "[1, 55, 3, 4]\n",
      "['a', 'b', 'c']\n"
     ]
    }
   ],
   "source": [
    "first_data = [1,2,3,4]\n",
    "second_data  = ['a','b','c']\n",
    "third_data = [1,2.3,'c',False]\n",
    "print(first_data)\n",
    "first_data[1]=55\n",
    "print(first_data)\n",
    "\n",
    "copied_data = first_data[0:2]\n",
    "print(copied_data)\n",
    "first_data.append(5)\n",
    "copy_data = first_data\n",
    "print(first_data)\n",
    "first_data.pop()\n",
    "print(copy_data)\n",
    "\n",
    "new_data = second_data.copy()\n",
    "print(new_data)\n"
   ]
  },
  {
   "cell_type": "markdown",
   "metadata": {},
   "source": [
    "adding elements to a list and useful methods for it\n",
    "appending a exisitng list and simultaneuously assigning it to a new list does not return anything (prints None if that method is used here)"
   ]
  },
  {
   "cell_type": "code",
   "execution_count": 157,
   "metadata": {},
   "outputs": [
    {
     "name": "stdout",
     "output_type": "stream",
     "text": [
      "[1, 2, 3, 4, 10]\n"
     ]
    }
   ],
   "source": [
    "first_info = [1,2,3,4]\n",
    "second_info  = ['a','b','c']\n",
    "third_info = [1,2.3,'c',False]\n",
    "#new_lits1 = first_info.append(10) this method will not work\n",
    "first_info.append(10)\n",
    "new_lits1 = first_info\n",
    "print(new_lits1)"
   ]
  },
  {
   "cell_type": "markdown",
   "metadata": {},
   "source": [
    "inserting elements and extending methods in list"
   ]
  },
  {
   "cell_type": "code",
   "execution_count": 34,
   "metadata": {},
   "outputs": [
    {
     "name": "stdout",
     "output_type": "stream",
     "text": [
      "[11, 1, 2, 3, 4]\n",
      "[11, 1, 2, 3, 4, 'a', 'b', 'c']\n"
     ]
    }
   ],
   "source": [
    "first_info = [1,2,3,4]\n",
    "first_info.insert(0,11)\n",
    "print(first_info)\n",
    "second_info  = ['a','b','c']\n",
    "first_info.extend(second_info)\n",
    "\n",
    "print(first_info)"
   ]
  },
  {
   "cell_type": "markdown",
   "metadata": {},
   "source": [
    "removing popping and deleting elements "
   ]
  },
  {
   "cell_type": "code",
   "execution_count": 42,
   "metadata": {},
   "outputs": [
    {
     "name": "stdout",
     "output_type": "stream",
     "text": [
      "2\n",
      "None\n",
      "None\n",
      "[]\n",
      "[1, 4]\n"
     ]
    }
   ],
   "source": [
    "first_info = [1,2,3,4]\n",
    "second_info  = ['a','b','c']\n",
    "print(first_info.pop(1))\n",
    "print(second_info.remove('a'))\n",
    "print(second_info.clear())\n",
    "print(second_info)\n",
    "del first_info[1]\n",
    "print(first_info)"
   ]
  },
  {
   "cell_type": "markdown",
   "metadata": {},
   "source": [
    "indexing and accessing "
   ]
  },
  {
   "cell_type": "code",
   "execution_count": 48,
   "metadata": {},
   "outputs": [
    {
     "name": "stdout",
     "output_type": "stream",
     "text": [
      "2\n",
      "3\n",
      "True\n",
      "False\n"
     ]
    }
   ],
   "source": [
    "example = ['a','z','f','b','c','d','e','d']\n",
    "print(example.count('d'))\n",
    "print(example.index('d'))\n",
    "print('d' in example)\n",
    "print('ad' in example)"
   ]
  },
  {
   "cell_type": "markdown",
   "metadata": {},
   "source": [
    "sorting the list\n",
    "you cannot sort prinnt the list directly like example.sort(), you need to actually run the command and the try to print"
   ]
  },
  {
   "cell_type": "code",
   "execution_count": 55,
   "metadata": {},
   "outputs": [
    {
     "name": "stdout",
     "output_type": "stream",
     "text": [
      "None\n",
      "['z', 'f', 'e', 'd', 'd', 'c', 'b', 'a']\n",
      "['a', 'b', 'c', 'd', 'd', 'e', 'f', 'z']\n"
     ]
    }
   ],
   "source": [
    "example = ['a','z','f','b','c','d','e','d']\n",
    "print(example.sort())\n",
    "example.sort(reverse=True)\n",
    "print(example)\n",
    "print(sorted(example))\n"
   ]
  },
  {
   "cell_type": "markdown",
   "metadata": {},
   "source": [
    "merge function in python"
   ]
  },
  {
   "cell_type": "code",
   "execution_count": 59,
   "metadata": {},
   "outputs": [
    {
     "name": "stdout",
     "output_type": "stream",
     "text": [
      "[1, 4, 6, 29, 34, 99]\n"
     ]
    }
   ],
   "source": [
    "from heapq import merge\n",
    "starting = [1,29,34]\n",
    "middle = [4,6,99]\n",
    "final_product = merge(starting,middle)\n",
    "print(list(final_product))\n",
    "\n"
   ]
  },
  {
   "cell_type": "markdown",
   "metadata": {},
   "source": [
    "slicing using inbuilt function"
   ]
  },
  {
   "cell_type": "code",
   "execution_count": 62,
   "metadata": {},
   "outputs": [
    {
     "name": "stdout",
     "output_type": "stream",
     "text": [
      "['a', 'b', 'c', 'd']\n"
     ]
    }
   ],
   "source": [
    "from itertools import islice\n",
    "print(list(islice('abcdef',4)))"
   ]
  },
  {
   "cell_type": "markdown",
   "metadata": {},
   "source": [
    "string interning\n",
    "string interning is the checking of whether the same string is present at the location two different variables are referencing the string but in memory it is present at same location"
   ]
  },
  {
   "cell_type": "code",
   "execution_count": 68,
   "metadata": {},
   "outputs": [
    {
     "name": "stdout",
     "output_type": "stream",
     "text": [
      "hello hello\n",
      "True\n",
      "1812031474032 1812031474032 1812052724272\n"
     ]
    }
   ],
   "source": [
    "u = 'hel'\n",
    "v= 'lo'\n",
    "w = u+v\n",
    "x= 'hello'\n",
    "z='hello'\n",
    "print(w,x)\n",
    "print(z is x)\n",
    "print(id(z), id(x),id(w))"
   ]
  },
  {
   "cell_type": "markdown",
   "metadata": {},
   "source": [
    "using sys to check if interned "
   ]
  },
  {
   "cell_type": "code",
   "execution_count": 70,
   "metadata": {},
   "outputs": [
    {
     "name": "stdout",
     "output_type": "stream",
     "text": [
      "True\n",
      "1812031474032 1812031474032\n"
     ]
    }
   ],
   "source": [
    "import sys\n",
    "s = sys.intern('hello')\n",
    "p = sys.intern(u+v)\n",
    "print(s is p)\n",
    "print(id(s),id(p))"
   ]
  }
 ],
 "metadata": {
  "kernelspec": {
   "display_name": "Python 3.9.2 64-bit",
   "language": "python",
   "name": "python3"
  },
  "language_info": {
   "codemirror_mode": {
    "name": "ipython",
    "version": 3
   },
   "file_extension": ".py",
   "mimetype": "text/x-python",
   "name": "python",
   "nbconvert_exporter": "python",
   "pygments_lexer": "ipython3",
   "version": "3.9.2"
  },
  "orig_nbformat": 4,
  "vscode": {
   "interpreter": {
    "hash": "b671c20432fcd147198c92e7f072af9e705f087eb990bee22b07f08caab9f630"
   }
  }
 },
 "nbformat": 4,
 "nbformat_minor": 2
}
